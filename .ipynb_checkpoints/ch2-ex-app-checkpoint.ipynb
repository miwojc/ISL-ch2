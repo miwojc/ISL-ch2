{
 "cells": [
  {
   "cell_type": "markdown",
   "metadata": {},
   "source": [
    "# Chapter 2 Exercises Applied"
   ]
  },
  {
   "cell_type": "markdown",
   "metadata": {},
   "source": [
    "## Exercise 8. College"
   ]
  },
  {
   "cell_type": "markdown",
   "metadata": {},
   "source": [
    "Read data into R"
   ]
  },
  {
   "cell_type": "code",
   "execution_count": 21,
   "metadata": {},
   "outputs": [],
   "source": [
    "college = read.csv(\"C:/Users/gbr06773/Documents/GitHub/ISL-ch2/College.csv\")"
   ]
  },
  {
   "cell_type": "markdown",
   "metadata": {},
   "source": [
    "First look at data"
   ]
  },
  {
   "cell_type": "code",
   "execution_count": 22,
   "metadata": {},
   "outputs": [
    {
     "data": {
      "text/html": [
       "<ol class=list-inline>\n",
       "\t<li>777</li>\n",
       "\t<li>19</li>\n",
       "</ol>\n"
      ],
      "text/latex": [
       "\\begin{enumerate*}\n",
       "\\item 777\n",
       "\\item 19\n",
       "\\end{enumerate*}\n"
      ],
      "text/markdown": [
       "1. 777\n",
       "2. 19\n",
       "\n",
       "\n"
      ],
      "text/plain": [
       "[1] 777  19"
      ]
     },
     "metadata": {},
     "output_type": "display_data"
    }
   ],
   "source": [
    "dim(college)"
   ]
  },
  {
   "cell_type": "code",
   "execution_count": 23,
   "metadata": {},
   "outputs": [
    {
     "data": {
      "text/html": [
       "<table>\n",
       "<thead><tr><th scope=col>X</th><th scope=col>Private</th><th scope=col>Apps</th><th scope=col>Accept</th><th scope=col>Enroll</th><th scope=col>Top10perc</th><th scope=col>Top25perc</th><th scope=col>F.Undergrad</th><th scope=col>P.Undergrad</th><th scope=col>Outstate</th><th scope=col>Room.Board</th><th scope=col>Books</th><th scope=col>Personal</th><th scope=col>PhD</th><th scope=col>Terminal</th><th scope=col>S.F.Ratio</th><th scope=col>perc.alumni</th><th scope=col>Expend</th><th scope=col>Grad.Rate</th></tr></thead>\n",
       "<tbody>\n",
       "\t<tr><td>Abilene Christian University</td><td>Yes                         </td><td>1660                        </td><td>1232                        </td><td>721                         </td><td>23                          </td><td>52                          </td><td>2885                        </td><td> 537                        </td><td> 7440                       </td><td>3300                        </td><td>450                         </td><td>2200                        </td><td>70                          </td><td>78                          </td><td>18.1                        </td><td>12                          </td><td> 7041                       </td><td>60                          </td></tr>\n",
       "\t<tr><td>Adelphi University          </td><td>Yes                         </td><td>2186                        </td><td>1924                        </td><td>512                         </td><td>16                          </td><td>29                          </td><td>2683                        </td><td>1227                        </td><td>12280                       </td><td>6450                        </td><td>750                         </td><td>1500                        </td><td>29                          </td><td>30                          </td><td>12.2                        </td><td>16                          </td><td>10527                       </td><td>56                          </td></tr>\n",
       "\t<tr><td>Adrian College              </td><td>Yes                         </td><td>1428                        </td><td>1097                        </td><td>336                         </td><td>22                          </td><td>50                          </td><td>1036                        </td><td>  99                        </td><td>11250                       </td><td>3750                        </td><td>400                         </td><td>1165                        </td><td>53                          </td><td>66                          </td><td>12.9                        </td><td>30                          </td><td> 8735                       </td><td>54                          </td></tr>\n",
       "\t<tr><td>Agnes Scott College         </td><td>Yes                         </td><td> 417                        </td><td> 349                        </td><td>137                         </td><td>60                          </td><td>89                          </td><td> 510                        </td><td>  63                        </td><td>12960                       </td><td>5450                        </td><td>450                         </td><td> 875                        </td><td>92                          </td><td>97                          </td><td> 7.7                        </td><td>37                          </td><td>19016                       </td><td>59                          </td></tr>\n",
       "\t<tr><td>Alaska Pacific University   </td><td>Yes                         </td><td> 193                        </td><td> 146                        </td><td> 55                         </td><td>16                          </td><td>44                          </td><td> 249                        </td><td> 869                        </td><td> 7560                       </td><td>4120                        </td><td>800                         </td><td>1500                        </td><td>76                          </td><td>72                          </td><td>11.9                        </td><td> 2                          </td><td>10922                       </td><td>15                          </td></tr>\n",
       "\t<tr><td>Albertson College           </td><td>Yes                         </td><td> 587                        </td><td> 479                        </td><td>158                         </td><td>38                          </td><td>62                          </td><td> 678                        </td><td>  41                        </td><td>13500                       </td><td>3335                        </td><td>500                         </td><td> 675                        </td><td>67                          </td><td>73                          </td><td> 9.4                        </td><td>11                          </td><td> 9727                       </td><td>55                          </td></tr>\n",
       "</tbody>\n",
       "</table>\n"
      ],
      "text/latex": [
       "\\begin{tabular}{r|lllllllllllllllllll}\n",
       " X & Private & Apps & Accept & Enroll & Top10perc & Top25perc & F.Undergrad & P.Undergrad & Outstate & Room.Board & Books & Personal & PhD & Terminal & S.F.Ratio & perc.alumni & Expend & Grad.Rate\\\\\n",
       "\\hline\n",
       "\t Abilene Christian University & Yes                          & 1660                         & 1232                         & 721                          & 23                           & 52                           & 2885                         &  537                         &  7440                        & 3300                         & 450                          & 2200                         & 70                           & 78                           & 18.1                         & 12                           &  7041                        & 60                          \\\\\n",
       "\t Adelphi University           & Yes                          & 2186                         & 1924                         & 512                          & 16                           & 29                           & 2683                         & 1227                         & 12280                        & 6450                         & 750                          & 1500                         & 29                           & 30                           & 12.2                         & 16                           & 10527                        & 56                          \\\\\n",
       "\t Adrian College               & Yes                          & 1428                         & 1097                         & 336                          & 22                           & 50                           & 1036                         &   99                         & 11250                        & 3750                         & 400                          & 1165                         & 53                           & 66                           & 12.9                         & 30                           &  8735                        & 54                          \\\\\n",
       "\t Agnes Scott College          & Yes                          &  417                         &  349                         & 137                          & 60                           & 89                           &  510                         &   63                         & 12960                        & 5450                         & 450                          &  875                         & 92                           & 97                           &  7.7                         & 37                           & 19016                        & 59                          \\\\\n",
       "\t Alaska Pacific University    & Yes                          &  193                         &  146                         &  55                          & 16                           & 44                           &  249                         &  869                         &  7560                        & 4120                         & 800                          & 1500                         & 76                           & 72                           & 11.9                         &  2                           & 10922                        & 15                          \\\\\n",
       "\t Albertson College            & Yes                          &  587                         &  479                         & 158                          & 38                           & 62                           &  678                         &   41                         & 13500                        & 3335                         & 500                          &  675                         & 67                           & 73                           &  9.4                         & 11                           &  9727                        & 55                          \\\\\n",
       "\\end{tabular}\n"
      ],
      "text/markdown": [
       "\n",
       "X | Private | Apps | Accept | Enroll | Top10perc | Top25perc | F.Undergrad | P.Undergrad | Outstate | Room.Board | Books | Personal | PhD | Terminal | S.F.Ratio | perc.alumni | Expend | Grad.Rate | \n",
       "|---|---|---|---|---|---|\n",
       "| Abilene Christian University | Yes                          | 1660                         | 1232                         | 721                          | 23                           | 52                           | 2885                         |  537                         |  7440                        | 3300                         | 450                          | 2200                         | 70                           | 78                           | 18.1                         | 12                           |  7041                        | 60                           | \n",
       "| Adelphi University           | Yes                          | 2186                         | 1924                         | 512                          | 16                           | 29                           | 2683                         | 1227                         | 12280                        | 6450                         | 750                          | 1500                         | 29                           | 30                           | 12.2                         | 16                           | 10527                        | 56                           | \n",
       "| Adrian College               | Yes                          | 1428                         | 1097                         | 336                          | 22                           | 50                           | 1036                         |   99                         | 11250                        | 3750                         | 400                          | 1165                         | 53                           | 66                           | 12.9                         | 30                           |  8735                        | 54                           | \n",
       "| Agnes Scott College          | Yes                          |  417                         |  349                         | 137                          | 60                           | 89                           |  510                         |   63                         | 12960                        | 5450                         | 450                          |  875                         | 92                           | 97                           |  7.7                         | 37                           | 19016                        | 59                           | \n",
       "| Alaska Pacific University    | Yes                          |  193                         |  146                         |  55                          | 16                           | 44                           |  249                         |  869                         |  7560                        | 4120                         | 800                          | 1500                         | 76                           | 72                           | 11.9                         |  2                           | 10922                        | 15                           | \n",
       "| Albertson College            | Yes                          |  587                         |  479                         | 158                          | 38                           | 62                           |  678                         |   41                         | 13500                        | 3335                         | 500                          |  675                         | 67                           | 73                           |  9.4                         | 11                           |  9727                        | 55                           | \n",
       "\n",
       "\n"
      ],
      "text/plain": [
       "  X                            Private Apps Accept Enroll Top10perc Top25perc\n",
       "1 Abilene Christian University Yes     1660 1232   721    23        52       \n",
       "2 Adelphi University           Yes     2186 1924   512    16        29       \n",
       "3 Adrian College               Yes     1428 1097   336    22        50       \n",
       "4 Agnes Scott College          Yes      417  349   137    60        89       \n",
       "5 Alaska Pacific University    Yes      193  146    55    16        44       \n",
       "6 Albertson College            Yes      587  479   158    38        62       \n",
       "  F.Undergrad P.Undergrad Outstate Room.Board Books Personal PhD Terminal\n",
       "1 2885         537         7440    3300       450   2200     70  78      \n",
       "2 2683        1227        12280    6450       750   1500     29  30      \n",
       "3 1036          99        11250    3750       400   1165     53  66      \n",
       "4  510          63        12960    5450       450    875     92  97      \n",
       "5  249         869         7560    4120       800   1500     76  72      \n",
       "6  678          41        13500    3335       500    675     67  73      \n",
       "  S.F.Ratio perc.alumni Expend Grad.Rate\n",
       "1 18.1      12           7041  60       \n",
       "2 12.2      16          10527  56       \n",
       "3 12.9      30           8735  54       \n",
       "4  7.7      37          19016  59       \n",
       "5 11.9       2          10922  15       \n",
       "6  9.4      11           9727  55       "
      ]
     },
     "metadata": {},
     "output_type": "display_data"
    }
   ],
   "source": [
    "head(college)"
   ]
  },
  {
   "cell_type": "markdown",
   "metadata": {},
   "source": [
    "First column (Uni names) to row name..."
   ]
  },
  {
   "cell_type": "code",
   "execution_count": 24,
   "metadata": {},
   "outputs": [],
   "source": [
    "rownames(college)=college[,1]"
   ]
  },
  {
   "cell_type": "code",
   "execution_count": 25,
   "metadata": {},
   "outputs": [
    {
     "data": {
      "text/html": [
       "<table>\n",
       "<thead><tr><th></th><th scope=col>X</th><th scope=col>Private</th><th scope=col>Apps</th><th scope=col>Accept</th><th scope=col>Enroll</th><th scope=col>Top10perc</th><th scope=col>Top25perc</th><th scope=col>F.Undergrad</th><th scope=col>P.Undergrad</th><th scope=col>Outstate</th><th scope=col>Room.Board</th><th scope=col>Books</th><th scope=col>Personal</th><th scope=col>PhD</th><th scope=col>Terminal</th><th scope=col>S.F.Ratio</th><th scope=col>perc.alumni</th><th scope=col>Expend</th><th scope=col>Grad.Rate</th></tr></thead>\n",
       "<tbody>\n",
       "\t<tr><th scope=row>Abilene Christian University</th><td>Abilene Christian University</td><td>Yes                         </td><td>1660                        </td><td>1232                        </td><td>721                         </td><td>23                          </td><td>52                          </td><td>2885                        </td><td> 537                        </td><td> 7440                       </td><td>3300                        </td><td>450                         </td><td>2200                        </td><td>70                          </td><td>78                          </td><td>18.1                        </td><td>12                          </td><td> 7041                       </td><td>60                          </td></tr>\n",
       "\t<tr><th scope=row>Adelphi University</th><td>Adelphi University          </td><td>Yes                         </td><td>2186                        </td><td>1924                        </td><td>512                         </td><td>16                          </td><td>29                          </td><td>2683                        </td><td>1227                        </td><td>12280                       </td><td>6450                        </td><td>750                         </td><td>1500                        </td><td>29                          </td><td>30                          </td><td>12.2                        </td><td>16                          </td><td>10527                       </td><td>56                          </td></tr>\n",
       "\t<tr><th scope=row>Adrian College</th><td>Adrian College              </td><td>Yes                         </td><td>1428                        </td><td>1097                        </td><td>336                         </td><td>22                          </td><td>50                          </td><td>1036                        </td><td>  99                        </td><td>11250                       </td><td>3750                        </td><td>400                         </td><td>1165                        </td><td>53                          </td><td>66                          </td><td>12.9                        </td><td>30                          </td><td> 8735                       </td><td>54                          </td></tr>\n",
       "\t<tr><th scope=row>Agnes Scott College</th><td>Agnes Scott College         </td><td>Yes                         </td><td> 417                        </td><td> 349                        </td><td>137                         </td><td>60                          </td><td>89                          </td><td> 510                        </td><td>  63                        </td><td>12960                       </td><td>5450                        </td><td>450                         </td><td> 875                        </td><td>92                          </td><td>97                          </td><td> 7.7                        </td><td>37                          </td><td>19016                       </td><td>59                          </td></tr>\n",
       "\t<tr><th scope=row>Alaska Pacific University</th><td>Alaska Pacific University   </td><td>Yes                         </td><td> 193                        </td><td> 146                        </td><td> 55                         </td><td>16                          </td><td>44                          </td><td> 249                        </td><td> 869                        </td><td> 7560                       </td><td>4120                        </td><td>800                         </td><td>1500                        </td><td>76                          </td><td>72                          </td><td>11.9                        </td><td> 2                          </td><td>10922                       </td><td>15                          </td></tr>\n",
       "\t<tr><th scope=row>Albertson College</th><td>Albertson College           </td><td>Yes                         </td><td> 587                        </td><td> 479                        </td><td>158                         </td><td>38                          </td><td>62                          </td><td> 678                        </td><td>  41                        </td><td>13500                       </td><td>3335                        </td><td>500                         </td><td> 675                        </td><td>67                          </td><td>73                          </td><td> 9.4                        </td><td>11                          </td><td> 9727                       </td><td>55                          </td></tr>\n",
       "</tbody>\n",
       "</table>\n"
      ],
      "text/latex": [
       "\\begin{tabular}{r|lllllllllllllllllll}\n",
       "  & X & Private & Apps & Accept & Enroll & Top10perc & Top25perc & F.Undergrad & P.Undergrad & Outstate & Room.Board & Books & Personal & PhD & Terminal & S.F.Ratio & perc.alumni & Expend & Grad.Rate\\\\\n",
       "\\hline\n",
       "\tAbilene Christian University & Abilene Christian University & Yes                          & 1660                         & 1232                         & 721                          & 23                           & 52                           & 2885                         &  537                         &  7440                        & 3300                         & 450                          & 2200                         & 70                           & 78                           & 18.1                         & 12                           &  7041                        & 60                          \\\\\n",
       "\tAdelphi University & Adelphi University           & Yes                          & 2186                         & 1924                         & 512                          & 16                           & 29                           & 2683                         & 1227                         & 12280                        & 6450                         & 750                          & 1500                         & 29                           & 30                           & 12.2                         & 16                           & 10527                        & 56                          \\\\\n",
       "\tAdrian College & Adrian College               & Yes                          & 1428                         & 1097                         & 336                          & 22                           & 50                           & 1036                         &   99                         & 11250                        & 3750                         & 400                          & 1165                         & 53                           & 66                           & 12.9                         & 30                           &  8735                        & 54                          \\\\\n",
       "\tAgnes Scott College & Agnes Scott College          & Yes                          &  417                         &  349                         & 137                          & 60                           & 89                           &  510                         &   63                         & 12960                        & 5450                         & 450                          &  875                         & 92                           & 97                           &  7.7                         & 37                           & 19016                        & 59                          \\\\\n",
       "\tAlaska Pacific University & Alaska Pacific University    & Yes                          &  193                         &  146                         &  55                          & 16                           & 44                           &  249                         &  869                         &  7560                        & 4120                         & 800                          & 1500                         & 76                           & 72                           & 11.9                         &  2                           & 10922                        & 15                          \\\\\n",
       "\tAlbertson College & Albertson College            & Yes                          &  587                         &  479                         & 158                          & 38                           & 62                           &  678                         &   41                         & 13500                        & 3335                         & 500                          &  675                         & 67                           & 73                           &  9.4                         & 11                           &  9727                        & 55                          \\\\\n",
       "\\end{tabular}\n"
      ],
      "text/markdown": [
       "\n",
       "| <!--/--> | X | Private | Apps | Accept | Enroll | Top10perc | Top25perc | F.Undergrad | P.Undergrad | Outstate | Room.Board | Books | Personal | PhD | Terminal | S.F.Ratio | perc.alumni | Expend | Grad.Rate | \n",
       "|---|---|---|---|---|---|\n",
       "| Abilene Christian University | Abilene Christian University | Yes                          | 1660                         | 1232                         | 721                          | 23                           | 52                           | 2885                         |  537                         |  7440                        | 3300                         | 450                          | 2200                         | 70                           | 78                           | 18.1                         | 12                           |  7041                        | 60                           | \n",
       "| Adelphi University | Adelphi University           | Yes                          | 2186                         | 1924                         | 512                          | 16                           | 29                           | 2683                         | 1227                         | 12280                        | 6450                         | 750                          | 1500                         | 29                           | 30                           | 12.2                         | 16                           | 10527                        | 56                           | \n",
       "| Adrian College | Adrian College               | Yes                          | 1428                         | 1097                         | 336                          | 22                           | 50                           | 1036                         |   99                         | 11250                        | 3750                         | 400                          | 1165                         | 53                           | 66                           | 12.9                         | 30                           |  8735                        | 54                           | \n",
       "| Agnes Scott College | Agnes Scott College          | Yes                          |  417                         |  349                         | 137                          | 60                           | 89                           |  510                         |   63                         | 12960                        | 5450                         | 450                          |  875                         | 92                           | 97                           |  7.7                         | 37                           | 19016                        | 59                           | \n",
       "| Alaska Pacific University | Alaska Pacific University    | Yes                          |  193                         |  146                         |  55                          | 16                           | 44                           |  249                         |  869                         |  7560                        | 4120                         | 800                          | 1500                         | 76                           | 72                           | 11.9                         |  2                           | 10922                        | 15                           | \n",
       "| Albertson College | Albertson College            | Yes                          |  587                         |  479                         | 158                          | 38                           | 62                           |  678                         |   41                         | 13500                        | 3335                         | 500                          |  675                         | 67                           | 73                           |  9.4                         | 11                           |  9727                        | 55                           | \n",
       "\n",
       "\n"
      ],
      "text/plain": [
       "                             X                            Private Apps Accept\n",
       "Abilene Christian University Abilene Christian University Yes     1660 1232  \n",
       "Adelphi University           Adelphi University           Yes     2186 1924  \n",
       "Adrian College               Adrian College               Yes     1428 1097  \n",
       "Agnes Scott College          Agnes Scott College          Yes      417  349  \n",
       "Alaska Pacific University    Alaska Pacific University    Yes      193  146  \n",
       "Albertson College            Albertson College            Yes      587  479  \n",
       "                             Enroll Top10perc Top25perc F.Undergrad P.Undergrad\n",
       "Abilene Christian University 721    23        52        2885         537       \n",
       "Adelphi University           512    16        29        2683        1227       \n",
       "Adrian College               336    22        50        1036          99       \n",
       "Agnes Scott College          137    60        89         510          63       \n",
       "Alaska Pacific University     55    16        44         249         869       \n",
       "Albertson College            158    38        62         678          41       \n",
       "                             Outstate Room.Board Books Personal PhD Terminal\n",
       "Abilene Christian University  7440    3300       450   2200     70  78      \n",
       "Adelphi University           12280    6450       750   1500     29  30      \n",
       "Adrian College               11250    3750       400   1165     53  66      \n",
       "Agnes Scott College          12960    5450       450    875     92  97      \n",
       "Alaska Pacific University     7560    4120       800   1500     76  72      \n",
       "Albertson College            13500    3335       500    675     67  73      \n",
       "                             S.F.Ratio perc.alumni Expend Grad.Rate\n",
       "Abilene Christian University 18.1      12           7041  60       \n",
       "Adelphi University           12.2      16          10527  56       \n",
       "Adrian College               12.9      30           8735  54       \n",
       "Agnes Scott College           7.7      37          19016  59       \n",
       "Alaska Pacific University    11.9       2          10922  15       \n",
       "Albertson College             9.4      11           9727  55       "
      ]
     },
     "metadata": {},
     "output_type": "display_data"
    }
   ],
   "source": [
    "head(college)"
   ]
  },
  {
   "cell_type": "markdown",
   "metadata": {},
   "source": [
    "...and remove first column with Uni names from \"college\" data set"
   ]
  },
  {
   "cell_type": "code",
   "execution_count": 26,
   "metadata": {},
   "outputs": [],
   "source": [
    "college = college [,-1]"
   ]
  },
  {
   "cell_type": "code",
   "execution_count": 27,
   "metadata": {},
   "outputs": [
    {
     "data": {
      "text/html": [
       "<table>\n",
       "<thead><tr><th></th><th scope=col>Private</th><th scope=col>Apps</th><th scope=col>Accept</th><th scope=col>Enroll</th><th scope=col>Top10perc</th><th scope=col>Top25perc</th><th scope=col>F.Undergrad</th><th scope=col>P.Undergrad</th><th scope=col>Outstate</th><th scope=col>Room.Board</th><th scope=col>Books</th><th scope=col>Personal</th><th scope=col>PhD</th><th scope=col>Terminal</th><th scope=col>S.F.Ratio</th><th scope=col>perc.alumni</th><th scope=col>Expend</th><th scope=col>Grad.Rate</th></tr></thead>\n",
       "<tbody>\n",
       "\t<tr><th scope=row>Abilene Christian University</th><td>Yes  </td><td>1660 </td><td>1232 </td><td>721  </td><td>23   </td><td>52   </td><td>2885 </td><td> 537 </td><td> 7440</td><td>3300 </td><td>450  </td><td>2200 </td><td>70   </td><td>78   </td><td>18.1 </td><td>12   </td><td> 7041</td><td>60   </td></tr>\n",
       "\t<tr><th scope=row>Adelphi University</th><td>Yes  </td><td>2186 </td><td>1924 </td><td>512  </td><td>16   </td><td>29   </td><td>2683 </td><td>1227 </td><td>12280</td><td>6450 </td><td>750  </td><td>1500 </td><td>29   </td><td>30   </td><td>12.2 </td><td>16   </td><td>10527</td><td>56   </td></tr>\n",
       "\t<tr><th scope=row>Adrian College</th><td>Yes  </td><td>1428 </td><td>1097 </td><td>336  </td><td>22   </td><td>50   </td><td>1036 </td><td>  99 </td><td>11250</td><td>3750 </td><td>400  </td><td>1165 </td><td>53   </td><td>66   </td><td>12.9 </td><td>30   </td><td> 8735</td><td>54   </td></tr>\n",
       "\t<tr><th scope=row>Agnes Scott College</th><td>Yes  </td><td> 417 </td><td> 349 </td><td>137  </td><td>60   </td><td>89   </td><td> 510 </td><td>  63 </td><td>12960</td><td>5450 </td><td>450  </td><td> 875 </td><td>92   </td><td>97   </td><td> 7.7 </td><td>37   </td><td>19016</td><td>59   </td></tr>\n",
       "\t<tr><th scope=row>Alaska Pacific University</th><td>Yes  </td><td> 193 </td><td> 146 </td><td> 55  </td><td>16   </td><td>44   </td><td> 249 </td><td> 869 </td><td> 7560</td><td>4120 </td><td>800  </td><td>1500 </td><td>76   </td><td>72   </td><td>11.9 </td><td> 2   </td><td>10922</td><td>15   </td></tr>\n",
       "\t<tr><th scope=row>Albertson College</th><td>Yes  </td><td> 587 </td><td> 479 </td><td>158  </td><td>38   </td><td>62   </td><td> 678 </td><td>  41 </td><td>13500</td><td>3335 </td><td>500  </td><td> 675 </td><td>67   </td><td>73   </td><td> 9.4 </td><td>11   </td><td> 9727</td><td>55   </td></tr>\n",
       "</tbody>\n",
       "</table>\n"
      ],
      "text/latex": [
       "\\begin{tabular}{r|llllllllllllllllll}\n",
       "  & Private & Apps & Accept & Enroll & Top10perc & Top25perc & F.Undergrad & P.Undergrad & Outstate & Room.Board & Books & Personal & PhD & Terminal & S.F.Ratio & perc.alumni & Expend & Grad.Rate\\\\\n",
       "\\hline\n",
       "\tAbilene Christian University & Yes   & 1660  & 1232  & 721   & 23    & 52    & 2885  &  537  &  7440 & 3300  & 450   & 2200  & 70    & 78    & 18.1  & 12    &  7041 & 60   \\\\\n",
       "\tAdelphi University & Yes   & 2186  & 1924  & 512   & 16    & 29    & 2683  & 1227  & 12280 & 6450  & 750   & 1500  & 29    & 30    & 12.2  & 16    & 10527 & 56   \\\\\n",
       "\tAdrian College & Yes   & 1428  & 1097  & 336   & 22    & 50    & 1036  &   99  & 11250 & 3750  & 400   & 1165  & 53    & 66    & 12.9  & 30    &  8735 & 54   \\\\\n",
       "\tAgnes Scott College & Yes   &  417  &  349  & 137   & 60    & 89    &  510  &   63  & 12960 & 5450  & 450   &  875  & 92    & 97    &  7.7  & 37    & 19016 & 59   \\\\\n",
       "\tAlaska Pacific University & Yes   &  193  &  146  &  55   & 16    & 44    &  249  &  869  &  7560 & 4120  & 800   & 1500  & 76    & 72    & 11.9  &  2    & 10922 & 15   \\\\\n",
       "\tAlbertson College & Yes   &  587  &  479  & 158   & 38    & 62    &  678  &   41  & 13500 & 3335  & 500   &  675  & 67    & 73    &  9.4  & 11    &  9727 & 55   \\\\\n",
       "\\end{tabular}\n"
      ],
      "text/markdown": [
       "\n",
       "| <!--/--> | Private | Apps | Accept | Enroll | Top10perc | Top25perc | F.Undergrad | P.Undergrad | Outstate | Room.Board | Books | Personal | PhD | Terminal | S.F.Ratio | perc.alumni | Expend | Grad.Rate | \n",
       "|---|---|---|---|---|---|\n",
       "| Abilene Christian University | Yes   | 1660  | 1232  | 721   | 23    | 52    | 2885  |  537  |  7440 | 3300  | 450   | 2200  | 70    | 78    | 18.1  | 12    |  7041 | 60    | \n",
       "| Adelphi University | Yes   | 2186  | 1924  | 512   | 16    | 29    | 2683  | 1227  | 12280 | 6450  | 750   | 1500  | 29    | 30    | 12.2  | 16    | 10527 | 56    | \n",
       "| Adrian College | Yes   | 1428  | 1097  | 336   | 22    | 50    | 1036  |   99  | 11250 | 3750  | 400   | 1165  | 53    | 66    | 12.9  | 30    |  8735 | 54    | \n",
       "| Agnes Scott College | Yes   |  417  |  349  | 137   | 60    | 89    |  510  |   63  | 12960 | 5450  | 450   |  875  | 92    | 97    |  7.7  | 37    | 19016 | 59    | \n",
       "| Alaska Pacific University | Yes   |  193  |  146  |  55   | 16    | 44    |  249  |  869  |  7560 | 4120  | 800   | 1500  | 76    | 72    | 11.9  |  2    | 10922 | 15    | \n",
       "| Albertson College | Yes   |  587  |  479  | 158   | 38    | 62    |  678  |   41  | 13500 | 3335  | 500   |  675  | 67    | 73    |  9.4  | 11    |  9727 | 55    | \n",
       "\n",
       "\n"
      ],
      "text/plain": [
       "                             Private Apps Accept Enroll Top10perc Top25perc\n",
       "Abilene Christian University Yes     1660 1232   721    23        52       \n",
       "Adelphi University           Yes     2186 1924   512    16        29       \n",
       "Adrian College               Yes     1428 1097   336    22        50       \n",
       "Agnes Scott College          Yes      417  349   137    60        89       \n",
       "Alaska Pacific University    Yes      193  146    55    16        44       \n",
       "Albertson College            Yes      587  479   158    38        62       \n",
       "                             F.Undergrad P.Undergrad Outstate Room.Board Books\n",
       "Abilene Christian University 2885         537         7440    3300       450  \n",
       "Adelphi University           2683        1227        12280    6450       750  \n",
       "Adrian College               1036          99        11250    3750       400  \n",
       "Agnes Scott College           510          63        12960    5450       450  \n",
       "Alaska Pacific University     249         869         7560    4120       800  \n",
       "Albertson College             678          41        13500    3335       500  \n",
       "                             Personal PhD Terminal S.F.Ratio perc.alumni Expend\n",
       "Abilene Christian University 2200     70  78       18.1      12           7041 \n",
       "Adelphi University           1500     29  30       12.2      16          10527 \n",
       "Adrian College               1165     53  66       12.9      30           8735 \n",
       "Agnes Scott College           875     92  97        7.7      37          19016 \n",
       "Alaska Pacific University    1500     76  72       11.9       2          10922 \n",
       "Albertson College             675     67  73        9.4      11           9727 \n",
       "                             Grad.Rate\n",
       "Abilene Christian University 60       \n",
       "Adelphi University           56       \n",
       "Adrian College               54       \n",
       "Agnes Scott College          59       \n",
       "Alaska Pacific University    15       \n",
       "Albertson College            55       "
      ]
     },
     "metadata": {},
     "output_type": "display_data"
    }
   ],
   "source": [
    "head(college)"
   ]
  },
  {
   "cell_type": "markdown",
   "metadata": {},
   "source": [
    "Numerical summary of the variables in data set"
   ]
  },
  {
   "cell_type": "code",
   "execution_count": 28,
   "metadata": {},
   "outputs": [
    {
     "data": {
      "text/plain": [
       " Private        Apps           Accept          Enroll       Top10perc    \n",
       " No :212   Min.   :   81   Min.   :   72   Min.   :  35   Min.   : 1.00  \n",
       " Yes:565   1st Qu.:  776   1st Qu.:  604   1st Qu.: 242   1st Qu.:15.00  \n",
       "           Median : 1558   Median : 1110   Median : 434   Median :23.00  \n",
       "           Mean   : 3002   Mean   : 2019   Mean   : 780   Mean   :27.56  \n",
       "           3rd Qu.: 3624   3rd Qu.: 2424   3rd Qu.: 902   3rd Qu.:35.00  \n",
       "           Max.   :48094   Max.   :26330   Max.   :6392   Max.   :96.00  \n",
       "   Top25perc      F.Undergrad     P.Undergrad         Outstate    \n",
       " Min.   :  9.0   Min.   :  139   Min.   :    1.0   Min.   : 2340  \n",
       " 1st Qu.: 41.0   1st Qu.:  992   1st Qu.:   95.0   1st Qu.: 7320  \n",
       " Median : 54.0   Median : 1707   Median :  353.0   Median : 9990  \n",
       " Mean   : 55.8   Mean   : 3700   Mean   :  855.3   Mean   :10441  \n",
       " 3rd Qu.: 69.0   3rd Qu.: 4005   3rd Qu.:  967.0   3rd Qu.:12925  \n",
       " Max.   :100.0   Max.   :31643   Max.   :21836.0   Max.   :21700  \n",
       "   Room.Board       Books           Personal         PhD        \n",
       " Min.   :1780   Min.   :  96.0   Min.   : 250   Min.   :  8.00  \n",
       " 1st Qu.:3597   1st Qu.: 470.0   1st Qu.: 850   1st Qu.: 62.00  \n",
       " Median :4200   Median : 500.0   Median :1200   Median : 75.00  \n",
       " Mean   :4358   Mean   : 549.4   Mean   :1341   Mean   : 72.66  \n",
       " 3rd Qu.:5050   3rd Qu.: 600.0   3rd Qu.:1700   3rd Qu.: 85.00  \n",
       " Max.   :8124   Max.   :2340.0   Max.   :6800   Max.   :103.00  \n",
       "    Terminal       S.F.Ratio      perc.alumni        Expend     \n",
       " Min.   : 24.0   Min.   : 2.50   Min.   : 0.00   Min.   : 3186  \n",
       " 1st Qu.: 71.0   1st Qu.:11.50   1st Qu.:13.00   1st Qu.: 6751  \n",
       " Median : 82.0   Median :13.60   Median :21.00   Median : 8377  \n",
       " Mean   : 79.7   Mean   :14.09   Mean   :22.74   Mean   : 9660  \n",
       " 3rd Qu.: 92.0   3rd Qu.:16.50   3rd Qu.:31.00   3rd Qu.:10830  \n",
       " Max.   :100.0   Max.   :39.80   Max.   :64.00   Max.   :56233  \n",
       "   Grad.Rate     \n",
       " Min.   : 10.00  \n",
       " 1st Qu.: 53.00  \n",
       " Median : 65.00  \n",
       " Mean   : 65.46  \n",
       " 3rd Qu.: 78.00  \n",
       " Max.   :118.00  "
      ]
     },
     "metadata": {},
     "output_type": "display_data"
    }
   ],
   "source": [
    "summary(college)"
   ]
  },
  {
   "cell_type": "markdown",
   "metadata": {},
   "source": [
    "Scatterplot matrix of the first ten columns"
   ]
  },
  {
   "cell_type": "code",
   "execution_count": 29,
   "metadata": {},
   "outputs": [
    {
     "data": {
      "image/png": "[encoded data removed]",
      "text/plain": [
       "plot without title"
      ]
     },
     "metadata": {},
     "output_type": "display_data"
    }
   ],
   "source": [
    "pairs(college[,1:10])"
   ]
  },
  {
   "cell_type": "markdown",
   "metadata": {},
   "source": [
    "Side-by-side boxplots boxplots of \"Outstate\" versus \"Private\""
   ]
  },
  {
   "cell_type": "code",
   "execution_count": 30,
   "metadata": {},
   "outputs": [
    {
     "data": {
      "image/png": "[encoded data removed]",
      "text/plain": [
       "Plot with title \"Boxplot Outstate versus Private\""
      ]
     },
     "metadata": {},
     "output_type": "display_data"
    }
   ],
   "source": [
    "plot(college$Private,college$Outstate,main=\"Boxplot Outstate versus Private\",xlab=\"Private indicator\",ylab=\"Out-of-state tuition\")"
   ]
  },
  {
   "cell_type": "markdown",
   "metadata": {},
   "source": [
    "Create new qualitative variable \"Elite\" by binning \"Top10perc\" variable in two groups: >50% and <=50%"
   ]
  },
  {
   "cell_type": "code",
   "execution_count": 31,
   "metadata": {},
   "outputs": [],
   "source": [
    "Elite = rep(\"No\",nrow(college))\n",
    "Elite[college$Top10perc > 50]=\"Yes\"\n",
    "Elite=as.factor(Elite)\n",
    "college=data.frame(college,Elite)"
   ]
  },
  {
   "cell_type": "code",
   "execution_count": 32,
   "metadata": {},
   "outputs": [
    {
     "data": {
      "text/html": [
       "<table>\n",
       "<thead><tr><th></th><th scope=col>Private</th><th scope=col>Apps</th><th scope=col>Accept</th><th scope=col>Enroll</th><th scope=col>Top10perc</th><th scope=col>Top25perc</th><th scope=col>F.Undergrad</th><th scope=col>P.Undergrad</th><th scope=col>Outstate</th><th scope=col>Room.Board</th><th scope=col>Books</th><th scope=col>Personal</th><th scope=col>PhD</th><th scope=col>Terminal</th><th scope=col>S.F.Ratio</th><th scope=col>perc.alumni</th><th scope=col>Expend</th><th scope=col>Grad.Rate</th><th scope=col>Elite</th></tr></thead>\n",
       "<tbody>\n",
       "\t<tr><th scope=row>Abilene Christian University</th><td>Yes  </td><td>1660 </td><td>1232 </td><td>721  </td><td>23   </td><td>52   </td><td>2885 </td><td> 537 </td><td> 7440</td><td>3300 </td><td>450  </td><td>2200 </td><td>70   </td><td>78   </td><td>18.1 </td><td>12   </td><td> 7041</td><td>60   </td><td>No   </td></tr>\n",
       "\t<tr><th scope=row>Adelphi University</th><td>Yes  </td><td>2186 </td><td>1924 </td><td>512  </td><td>16   </td><td>29   </td><td>2683 </td><td>1227 </td><td>12280</td><td>6450 </td><td>750  </td><td>1500 </td><td>29   </td><td>30   </td><td>12.2 </td><td>16   </td><td>10527</td><td>56   </td><td>No   </td></tr>\n",
       "\t<tr><th scope=row>Adrian College</th><td>Yes  </td><td>1428 </td><td>1097 </td><td>336  </td><td>22   </td><td>50   </td><td>1036 </td><td>  99 </td><td>11250</td><td>3750 </td><td>400  </td><td>1165 </td><td>53   </td><td>66   </td><td>12.9 </td><td>30   </td><td> 8735</td><td>54   </td><td>No   </td></tr>\n",
       "\t<tr><th scope=row>Agnes Scott College</th><td>Yes  </td><td> 417 </td><td> 349 </td><td>137  </td><td>60   </td><td>89   </td><td> 510 </td><td>  63 </td><td>12960</td><td>5450 </td><td>450  </td><td> 875 </td><td>92   </td><td>97   </td><td> 7.7 </td><td>37   </td><td>19016</td><td>59   </td><td>Yes  </td></tr>\n",
       "\t<tr><th scope=row>Alaska Pacific University</th><td>Yes  </td><td> 193 </td><td> 146 </td><td> 55  </td><td>16   </td><td>44   </td><td> 249 </td><td> 869 </td><td> 7560</td><td>4120 </td><td>800  </td><td>1500 </td><td>76   </td><td>72   </td><td>11.9 </td><td> 2   </td><td>10922</td><td>15   </td><td>No   </td></tr>\n",
       "\t<tr><th scope=row>Albertson College</th><td>Yes  </td><td> 587 </td><td> 479 </td><td>158  </td><td>38   </td><td>62   </td><td> 678 </td><td>  41 </td><td>13500</td><td>3335 </td><td>500  </td><td> 675 </td><td>67   </td><td>73   </td><td> 9.4 </td><td>11   </td><td> 9727</td><td>55   </td><td>No   </td></tr>\n",
       "</tbody>\n",
       "</table>\n"
      ],
      "text/latex": [
       "\\begin{tabular}{r|lllllllllllllllllll}\n",
       "  & Private & Apps & Accept & Enroll & Top10perc & Top25perc & F.Undergrad & P.Undergrad & Outstate & Room.Board & Books & Personal & PhD & Terminal & S.F.Ratio & perc.alumni & Expend & Grad.Rate & Elite\\\\\n",
       "\\hline\n",
       "\tAbilene Christian University & Yes   & 1660  & 1232  & 721   & 23    & 52    & 2885  &  537  &  7440 & 3300  & 450   & 2200  & 70    & 78    & 18.1  & 12    &  7041 & 60    & No   \\\\\n",
       "\tAdelphi University & Yes   & 2186  & 1924  & 512   & 16    & 29    & 2683  & 1227  & 12280 & 6450  & 750   & 1500  & 29    & 30    & 12.2  & 16    & 10527 & 56    & No   \\\\\n",
       "\tAdrian College & Yes   & 1428  & 1097  & 336   & 22    & 50    & 1036  &   99  & 11250 & 3750  & 400   & 1165  & 53    & 66    & 12.9  & 30    &  8735 & 54    & No   \\\\\n",
       "\tAgnes Scott College & Yes   &  417  &  349  & 137   & 60    & 89    &  510  &   63  & 12960 & 5450  & 450   &  875  & 92    & 97    &  7.7  & 37    & 19016 & 59    & Yes  \\\\\n",
       "\tAlaska Pacific University & Yes   &  193  &  146  &  55   & 16    & 44    &  249  &  869  &  7560 & 4120  & 800   & 1500  & 76    & 72    & 11.9  &  2    & 10922 & 15    & No   \\\\\n",
       "\tAlbertson College & Yes   &  587  &  479  & 158   & 38    & 62    &  678  &   41  & 13500 & 3335  & 500   &  675  & 67    & 73    &  9.4  & 11    &  9727 & 55    & No   \\\\\n",
       "\\end{tabular}\n"
      ],
      "text/markdown": [
       "\n",
       "| <!--/--> | Private | Apps | Accept | Enroll | Top10perc | Top25perc | F.Undergrad | P.Undergrad | Outstate | Room.Board | Books | Personal | PhD | Terminal | S.F.Ratio | perc.alumni | Expend | Grad.Rate | Elite | \n",
       "|---|---|---|---|---|---|\n",
       "| Abilene Christian University | Yes   | 1660  | 1232  | 721   | 23    | 52    | 2885  |  537  |  7440 | 3300  | 450   | 2200  | 70    | 78    | 18.1  | 12    |  7041 | 60    | No    | \n",
       "| Adelphi University | Yes   | 2186  | 1924  | 512   | 16    | 29    | 2683  | 1227  | 12280 | 6450  | 750   | 1500  | 29    | 30    | 12.2  | 16    | 10527 | 56    | No    | \n",
       "| Adrian College | Yes   | 1428  | 1097  | 336   | 22    | 50    | 1036  |   99  | 11250 | 3750  | 400   | 1165  | 53    | 66    | 12.9  | 30    |  8735 | 54    | No    | \n",
       "| Agnes Scott College | Yes   |  417  |  349  | 137   | 60    | 89    |  510  |   63  | 12960 | 5450  | 450   |  875  | 92    | 97    |  7.7  | 37    | 19016 | 59    | Yes   | \n",
       "| Alaska Pacific University | Yes   |  193  |  146  |  55   | 16    | 44    |  249  |  869  |  7560 | 4120  | 800   | 1500  | 76    | 72    | 11.9  |  2    | 10922 | 15    | No    | \n",
       "| Albertson College | Yes   |  587  |  479  | 158   | 38    | 62    |  678  |   41  | 13500 | 3335  | 500   |  675  | 67    | 73    |  9.4  | 11    |  9727 | 55    | No    | \n",
       "\n",
       "\n"
      ],
      "text/plain": [
       "                             Private Apps Accept Enroll Top10perc Top25perc\n",
       "Abilene Christian University Yes     1660 1232   721    23        52       \n",
       "Adelphi University           Yes     2186 1924   512    16        29       \n",
       "Adrian College               Yes     1428 1097   336    22        50       \n",
       "Agnes Scott College          Yes      417  349   137    60        89       \n",
       "Alaska Pacific University    Yes      193  146    55    16        44       \n",
       "Albertson College            Yes      587  479   158    38        62       \n",
       "                             F.Undergrad P.Undergrad Outstate Room.Board Books\n",
       "Abilene Christian University 2885         537         7440    3300       450  \n",
       "Adelphi University           2683        1227        12280    6450       750  \n",
       "Adrian College               1036          99        11250    3750       400  \n",
       "Agnes Scott College           510          63        12960    5450       450  \n",
       "Alaska Pacific University     249         869         7560    4120       800  \n",
       "Albertson College             678          41        13500    3335       500  \n",
       "                             Personal PhD Terminal S.F.Ratio perc.alumni Expend\n",
       "Abilene Christian University 2200     70  78       18.1      12           7041 \n",
       "Adelphi University           1500     29  30       12.2      16          10527 \n",
       "Adrian College               1165     53  66       12.9      30           8735 \n",
       "Agnes Scott College           875     92  97        7.7      37          19016 \n",
       "Alaska Pacific University    1500     76  72       11.9       2          10922 \n",
       "Albertson College             675     67  73        9.4      11           9727 \n",
       "                             Grad.Rate Elite\n",
       "Abilene Christian University 60        No   \n",
       "Adelphi University           56        No   \n",
       "Adrian College               54        No   \n",
       "Agnes Scott College          59        Yes  \n",
       "Alaska Pacific University    15        No   \n",
       "Albertson College            55        No   "
      ]
     },
     "metadata": {},
     "output_type": "display_data"
    }
   ],
   "source": [
    "head(college)"
   ]
  },
  {
   "cell_type": "code",
   "execution_count": 33,
   "metadata": {},
   "outputs": [
    {
     "data": {
      "text/plain": [
       " Private        Apps           Accept          Enroll       Top10perc    \n",
       " No :212   Min.   :   81   Min.   :   72   Min.   :  35   Min.   : 1.00  \n",
       " Yes:565   1st Qu.:  776   1st Qu.:  604   1st Qu.: 242   1st Qu.:15.00  \n",
       "           Median : 1558   Median : 1110   Median : 434   Median :23.00  \n",
       "           Mean   : 3002   Mean   : 2019   Mean   : 780   Mean   :27.56  \n",
       "           3rd Qu.: 3624   3rd Qu.: 2424   3rd Qu.: 902   3rd Qu.:35.00  \n",
       "           Max.   :48094   Max.   :26330   Max.   :6392   Max.   :96.00  \n",
       "   Top25perc      F.Undergrad     P.Undergrad         Outstate    \n",
       " Min.   :  9.0   Min.   :  139   Min.   :    1.0   Min.   : 2340  \n",
       " 1st Qu.: 41.0   1st Qu.:  992   1st Qu.:   95.0   1st Qu.: 7320  \n",
       " Median : 54.0   Median : 1707   Median :  353.0   Median : 9990  \n",
       " Mean   : 55.8   Mean   : 3700   Mean   :  855.3   Mean   :10441  \n",
       " 3rd Qu.: 69.0   3rd Qu.: 4005   3rd Qu.:  967.0   3rd Qu.:12925  \n",
       " Max.   :100.0   Max.   :31643   Max.   :21836.0   Max.   :21700  \n",
       "   Room.Board       Books           Personal         PhD        \n",
       " Min.   :1780   Min.   :  96.0   Min.   : 250   Min.   :  8.00  \n",
       " 1st Qu.:3597   1st Qu.: 470.0   1st Qu.: 850   1st Qu.: 62.00  \n",
       " Median :4200   Median : 500.0   Median :1200   Median : 75.00  \n",
       " Mean   :4358   Mean   : 549.4   Mean   :1341   Mean   : 72.66  \n",
       " 3rd Qu.:5050   3rd Qu.: 600.0   3rd Qu.:1700   3rd Qu.: 85.00  \n",
       " Max.   :8124   Max.   :2340.0   Max.   :6800   Max.   :103.00  \n",
       "    Terminal       S.F.Ratio      perc.alumni        Expend     \n",
       " Min.   : 24.0   Min.   : 2.50   Min.   : 0.00   Min.   : 3186  \n",
       " 1st Qu.: 71.0   1st Qu.:11.50   1st Qu.:13.00   1st Qu.: 6751  \n",
       " Median : 82.0   Median :13.60   Median :21.00   Median : 8377  \n",
       " Mean   : 79.7   Mean   :14.09   Mean   :22.74   Mean   : 9660  \n",
       " 3rd Qu.: 92.0   3rd Qu.:16.50   3rd Qu.:31.00   3rd Qu.:10830  \n",
       " Max.   :100.0   Max.   :39.80   Max.   :64.00   Max.   :56233  \n",
       "   Grad.Rate      Elite    \n",
       " Min.   : 10.00   No :699  \n",
       " 1st Qu.: 53.00   Yes: 78  \n",
       " Median : 65.00            \n",
       " Mean   : 65.46            \n",
       " 3rd Qu.: 78.00            \n",
       " Max.   :118.00            "
      ]
     },
     "metadata": {},
     "output_type": "display_data"
    }
   ],
   "source": [
    "summary(college)"
   ]
  },
  {
   "cell_type": "markdown",
   "metadata": {},
   "source": [
    "Boxplot of \"Outstate\" vs \"Elite\""
   ]
  },
  {
   "cell_type": "code",
   "execution_count": 34,
   "metadata": {},
   "outputs": [
    {
     "data": {
      "image/png": "[encoded data removed]",
      "text/plain": [
       "Plot with title \"Boxplot Outstate versus Elite\""
      ]
     },
     "metadata": {},
     "output_type": "display_data"
    }
   ],
   "source": [
    "plot(college$Elite,college$Outstate,main=\"Boxplot Outstate versus Elite\",xlab=\"Elite indicator\",ylab=\"Out-of-state tuition\")"
   ]
  },
  {
   "cell_type": "markdown",
   "metadata": {},
   "source": [
    "Plot some histograms"
   ]
  },
  {
   "cell_type": "code",
   "execution_count": 35,
   "metadata": {},
   "outputs": [
    {
     "data": {
      "image/png": "[encoded data removed]",
      "text/plain": [
       "Plot with title \"Histogram of college$Top10perc\""
      ]
     },
     "metadata": {},
     "output_type": "display_data"
    },
    {
     "data": {
      "image/png": "[encoded data removed]",
      "text/plain": [
       "Plot with title \"breaks=100\""
      ]
     },
     "metadata": {},
     "output_type": "display_data"
    }
   ],
   "source": [
    "par(mfrow=c(2,2))\n",
    "hist(college$Apps)\n",
    "hist(college$Accept)\n",
    "hist(college$Enroll)\n",
    "hist(college$Top10perc)\n",
    "hist(college$Top10perc,breaks=5, main=\"breaks=5\")\n",
    "hist(college$Top10perc,breaks=10, main=\"breaks=10\")\n",
    "hist(college$Top10perc,breaks=15, main=\"breaks=15\")\n",
    "hist(college$Top10perc,breaks=100, main=\"breaks=100\")"
   ]
  },
  {
   "cell_type": "markdown",
   "metadata": {},
   "source": [
    "Graduation rate vs Uni boxplot"
   ]
  },
  {
   "cell_type": "code",
   "execution_count": 40,
   "metadata": {},
   "outputs": [
    {
     "ename": "ERROR",
     "evalue": "Error in xy.coords(x, y, xlabel, ylabel, log): 'x' and 'y' lengths differ\n",
     "output_type": "error",
     "traceback": [
      "Error in xy.coords(x, y, xlabel, ylabel, log): 'x' and 'y' lengths differ\nTraceback:\n",
      "1. plot(college$row.names, college$Outstate, main = \"Boxplot Outstate versus Elite\", \n .     xlab = \"Elite indicator\", ylab = \"Out-of-state tuition\")",
      "2. plot.default(college$row.names, college$Outstate, main = \"Boxplot Outstate versus Elite\", \n .     xlab = \"Elite indicator\", ylab = \"Out-of-state tuition\")",
      "3. xy.coords(x, y, xlabel, ylabel, log)",
      "4. stop(\"'x' and 'y' lengths differ\")"
     ]
    }
   ],
   "source": [
    "plot(college$row.names,college$Outstate,main=\"Boxplot Outstate versus Elite\",xlab=\"Elite indicator\",ylab=\"Out-of-state tuition\")"
   ]
  },
  {
   "cell_type": "code",
   "execution_count": 42,
   "metadata": {},
   "outputs": [
    {
     "data": {
      "text/html": [
       "<table>\n",
       "<thead><tr><th></th><th scope=col>Private</th><th scope=col>Apps</th><th scope=col>Accept</th><th scope=col>Enroll</th><th scope=col>Top10perc</th><th scope=col>Top25perc</th><th scope=col>F.Undergrad</th><th scope=col>P.Undergrad</th><th scope=col>Outstate</th><th scope=col>Room.Board</th><th scope=col>Books</th><th scope=col>Personal</th><th scope=col>PhD</th><th scope=col>Terminal</th><th scope=col>S.F.Ratio</th><th scope=col>perc.alumni</th><th scope=col>Expend</th><th scope=col>Grad.Rate</th><th scope=col>Elite</th></tr></thead>\n",
       "<tbody>\n",
       "\t<tr><th scope=row>Abilene Christian University</th><td>Yes  </td><td>1660 </td><td>1232 </td><td>721  </td><td>23   </td><td>52   </td><td>2885 </td><td> 537 </td><td> 7440</td><td>3300 </td><td>450  </td><td>2200 </td><td>70   </td><td>78   </td><td>18.1 </td><td>12   </td><td> 7041</td><td>60   </td><td>No   </td></tr>\n",
       "\t<tr><th scope=row>Adelphi University</th><td>Yes  </td><td>2186 </td><td>1924 </td><td>512  </td><td>16   </td><td>29   </td><td>2683 </td><td>1227 </td><td>12280</td><td>6450 </td><td>750  </td><td>1500 </td><td>29   </td><td>30   </td><td>12.2 </td><td>16   </td><td>10527</td><td>56   </td><td>No   </td></tr>\n",
       "\t<tr><th scope=row>Adrian College</th><td>Yes  </td><td>1428 </td><td>1097 </td><td>336  </td><td>22   </td><td>50   </td><td>1036 </td><td>  99 </td><td>11250</td><td>3750 </td><td>400  </td><td>1165 </td><td>53   </td><td>66   </td><td>12.9 </td><td>30   </td><td> 8735</td><td>54   </td><td>No   </td></tr>\n",
       "\t<tr><th scope=row>Agnes Scott College</th><td>Yes  </td><td> 417 </td><td> 349 </td><td>137  </td><td>60   </td><td>89   </td><td> 510 </td><td>  63 </td><td>12960</td><td>5450 </td><td>450  </td><td> 875 </td><td>92   </td><td>97   </td><td> 7.7 </td><td>37   </td><td>19016</td><td>59   </td><td>Yes  </td></tr>\n",
       "\t<tr><th scope=row>Alaska Pacific University</th><td>Yes  </td><td> 193 </td><td> 146 </td><td> 55  </td><td>16   </td><td>44   </td><td> 249 </td><td> 869 </td><td> 7560</td><td>4120 </td><td>800  </td><td>1500 </td><td>76   </td><td>72   </td><td>11.9 </td><td> 2   </td><td>10922</td><td>15   </td><td>No   </td></tr>\n",
       "\t<tr><th scope=row>Albertson College</th><td>Yes  </td><td> 587 </td><td> 479 </td><td>158  </td><td>38   </td><td>62   </td><td> 678 </td><td>  41 </td><td>13500</td><td>3335 </td><td>500  </td><td> 675 </td><td>67   </td><td>73   </td><td> 9.4 </td><td>11   </td><td> 9727</td><td>55   </td><td>No   </td></tr>\n",
       "</tbody>\n",
       "</table>\n"
      ],
      "text/latex": [
       "\\begin{tabular}{r|lllllllllllllllllll}\n",
       "  & Private & Apps & Accept & Enroll & Top10perc & Top25perc & F.Undergrad & P.Undergrad & Outstate & Room.Board & Books & Personal & PhD & Terminal & S.F.Ratio & perc.alumni & Expend & Grad.Rate & Elite\\\\\n",
       "\\hline\n",
       "\tAbilene Christian University & Yes   & 1660  & 1232  & 721   & 23    & 52    & 2885  &  537  &  7440 & 3300  & 450   & 2200  & 70    & 78    & 18.1  & 12    &  7041 & 60    & No   \\\\\n",
       "\tAdelphi University & Yes   & 2186  & 1924  & 512   & 16    & 29    & 2683  & 1227  & 12280 & 6450  & 750   & 1500  & 29    & 30    & 12.2  & 16    & 10527 & 56    & No   \\\\\n",
       "\tAdrian College & Yes   & 1428  & 1097  & 336   & 22    & 50    & 1036  &   99  & 11250 & 3750  & 400   & 1165  & 53    & 66    & 12.9  & 30    &  8735 & 54    & No   \\\\\n",
       "\tAgnes Scott College & Yes   &  417  &  349  & 137   & 60    & 89    &  510  &   63  & 12960 & 5450  & 450   &  875  & 92    & 97    &  7.7  & 37    & 19016 & 59    & Yes  \\\\\n",
       "\tAlaska Pacific University & Yes   &  193  &  146  &  55   & 16    & 44    &  249  &  869  &  7560 & 4120  & 800   & 1500  & 76    & 72    & 11.9  &  2    & 10922 & 15    & No   \\\\\n",
       "\tAlbertson College & Yes   &  587  &  479  & 158   & 38    & 62    &  678  &   41  & 13500 & 3335  & 500   &  675  & 67    & 73    &  9.4  & 11    &  9727 & 55    & No   \\\\\n",
       "\\end{tabular}\n"
      ],
      "text/markdown": [
       "\n",
       "| <!--/--> | Private | Apps | Accept | Enroll | Top10perc | Top25perc | F.Undergrad | P.Undergrad | Outstate | Room.Board | Books | Personal | PhD | Terminal | S.F.Ratio | perc.alumni | Expend | Grad.Rate | Elite | \n",
       "|---|---|---|---|---|---|\n",
       "| Abilene Christian University | Yes   | 1660  | 1232  | 721   | 23    | 52    | 2885  |  537  |  7440 | 3300  | 450   | 2200  | 70    | 78    | 18.1  | 12    |  7041 | 60    | No    | \n",
       "| Adelphi University | Yes   | 2186  | 1924  | 512   | 16    | 29    | 2683  | 1227  | 12280 | 6450  | 750   | 1500  | 29    | 30    | 12.2  | 16    | 10527 | 56    | No    | \n",
       "| Adrian College | Yes   | 1428  | 1097  | 336   | 22    | 50    | 1036  |   99  | 11250 | 3750  | 400   | 1165  | 53    | 66    | 12.9  | 30    |  8735 | 54    | No    | \n",
       "| Agnes Scott College | Yes   |  417  |  349  | 137   | 60    | 89    |  510  |   63  | 12960 | 5450  | 450   |  875  | 92    | 97    |  7.7  | 37    | 19016 | 59    | Yes   | \n",
       "| Alaska Pacific University | Yes   |  193  |  146  |  55   | 16    | 44    |  249  |  869  |  7560 | 4120  | 800   | 1500  | 76    | 72    | 11.9  |  2    | 10922 | 15    | No    | \n",
       "| Albertson College | Yes   |  587  |  479  | 158   | 38    | 62    |  678  |   41  | 13500 | 3335  | 500   |  675  | 67    | 73    |  9.4  | 11    |  9727 | 55    | No    | \n",
       "\n",
       "\n"
      ],
      "text/plain": [
       "                             Private Apps Accept Enroll Top10perc Top25perc\n",
       "Abilene Christian University Yes     1660 1232   721    23        52       \n",
       "Adelphi University           Yes     2186 1924   512    16        29       \n",
       "Adrian College               Yes     1428 1097   336    22        50       \n",
       "Agnes Scott College          Yes      417  349   137    60        89       \n",
       "Alaska Pacific University    Yes      193  146    55    16        44       \n",
       "Albertson College            Yes      587  479   158    38        62       \n",
       "                             F.Undergrad P.Undergrad Outstate Room.Board Books\n",
       "Abilene Christian University 2885         537         7440    3300       450  \n",
       "Adelphi University           2683        1227        12280    6450       750  \n",
       "Adrian College               1036          99        11250    3750       400  \n",
       "Agnes Scott College           510          63        12960    5450       450  \n",
       "Alaska Pacific University     249         869         7560    4120       800  \n",
       "Albertson College             678          41        13500    3335       500  \n",
       "                             Personal PhD Terminal S.F.Ratio perc.alumni Expend\n",
       "Abilene Christian University 2200     70  78       18.1      12           7041 \n",
       "Adelphi University           1500     29  30       12.2      16          10527 \n",
       "Adrian College               1165     53  66       12.9      30           8735 \n",
       "Agnes Scott College           875     92  97        7.7      37          19016 \n",
       "Alaska Pacific University    1500     76  72       11.9       2          10922 \n",
       "Albertson College             675     67  73        9.4      11           9727 \n",
       "                             Grad.Rate Elite\n",
       "Abilene Christian University 60        No   \n",
       "Adelphi University           56        No   \n",
       "Adrian College               54        No   \n",
       "Agnes Scott College          59        Yes  \n",
       "Alaska Pacific University    15        No   \n",
       "Albertson College            55        No   "
      ]
     },
     "metadata": {},
     "output_type": "display_data"
    }
   ],
   "source": [
    "head(college)"
   ]
  },
  {
   "cell_type": "code",
   "execution_count": 43,
   "metadata": {},
   "outputs": [
    {
     "data": {
      "image/png": "[encoded data removed]",
      "text/plain": [
       "plot without title"
      ]
     },
     "metadata": {},
     "output_type": "display_data"
    }
   ],
   "source": [
    "barplot(college$Grad.Rate, names.arg=rownames(college))"
   ]
  },
  {
   "cell_type": "code",
   "execution_count": 49,
   "metadata": {},
   "outputs": [
    {
     "ename": "ERROR",
     "evalue": "Error in print.default(names.arg = rownames(college$Grad.Rate > 100)): argument \"x\" is missing, with no default\n",
     "output_type": "error",
     "traceback": [
      "Error in print.default(names.arg = rownames(college$Grad.Rate > 100)): argument \"x\" is missing, with no default\nTraceback:\n",
      "1. print(names.arg = rownames(college$Grad.Rate > 100))",
      "2. print.default(names.arg = rownames(college$Grad.Rate > 100))"
     ]
    }
   ],
   "source": [
    "print(names.arg=rownames(college$Grad.Rate>100))"
   ]
  },
  {
   "cell_type": "code",
   "execution_count": null,
   "metadata": {},
   "outputs": [],
   "source": []
  },
  {
   "cell_type": "code",
   "execution_count": null,
   "metadata": {},
   "outputs": [],
   "source": []
  },
  {
   "cell_type": "code",
   "execution_count": null,
   "metadata": {},
   "outputs": [],
   "source": []
  }
 ],
 "metadata": {
  "kernelspec": {
   "display_name": "R",
   "language": "R",
   "name": "ir"
  },
  "language_info": {
   "codemirror_mode": "r",
   "file_extension": ".r",
   "mimetype": "text/x-r-source",
   "name": "R",
   "pygments_lexer": "r",
   "version": "3.4.3"
  }
 },
 "nbformat": 4,
 "nbformat_minor": 2
}
